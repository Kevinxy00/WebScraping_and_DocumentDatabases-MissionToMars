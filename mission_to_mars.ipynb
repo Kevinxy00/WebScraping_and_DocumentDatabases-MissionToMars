{
 "cells": [
  {
   "cell_type": "code",
   "execution_count": 22,
   "metadata": {
    "collapsed": true
   },
   "outputs": [],
   "source": [
    "import pandas as pd\n",
    "import numpy as np\n",
    "from bs4 import BeautifulSoup\n",
    "import requests\n",
    "from splinter import Browser\n",
    "import time"
   ]
  },
  {
   "cell_type": "markdown",
   "metadata": {},
   "source": [
    "### NASA Mars News"
   ]
  },
  {
   "cell_type": "code",
   "execution_count": 23,
   "metadata": {
    "collapsed": true
   },
   "outputs": [],
   "source": [
    "# *** Scrape the [NASA Mars News Site] ***\n",
    "url_NASA = \"https://mars.nasa.gov/news\"\n",
    "r = requests.get(url_NASA) # sends a request to the url\n",
    "data = r.text # turns response into texts\n",
    "soup = BeautifulSoup(data, \"html.parser\") # changes the response from text to html"
   ]
  },
  {
   "cell_type": "code",
   "execution_count": 24,
   "metadata": {},
   "outputs": [
    {
     "data": {
      "text/plain": [
       "<a href=\"/news/8307/mars-reconnaissance-orbiter-preparing-for-years-ahead/\">\n",
       "<div class=\"rollover_description\">\n",
       "<div class=\"rollover_description_inner\">\n",
       "NASA's Mars Reconnaissance Orbiter (MRO) has begun extra stargazing to help the space agency accomplish advances in Mars exploration over the next decade.\n",
       "</div>\n",
       "<div class=\"overlay_arrow\">\n",
       "<img alt=\"More\" src=\"/assets/overlay-arrow.png\"/>\n",
       "</div>\n",
       "</div>\n",
       "<img alt=\"Mars Reconnaissance Orbiter Preparing for Years Ahead\" class=\"img-lazy\" data-lazy=\"/system/news_items/list_view_images/8307_pia05490_320.jpg\" src=\"/assets/loading_320x240.png\"/>\n",
       "</a>"
      ]
     },
     "execution_count": 24,
     "metadata": {},
     "output_type": "execute_result"
    }
   ],
   "source": [
    "# collect the latest News Title and Paragragh Text. Assign the text to variables that you can reference later.\n",
    "soup_div = soup.find(class_=\"slide\") # within div in body, within <ul>, <li class=slide>.\n",
    "soup_news = soup_div.find_all('a') # search by anchor\n",
    "soup_news[0] # note: find_all returns list, and further find_alls only look at one entry in list at a time"
   ]
  },
  {
   "cell_type": "code",
   "execution_count": 25,
   "metadata": {},
   "outputs": [
    {
     "data": {
      "text/plain": [
       "'Mars Reconnaissance Orbiter Preparing for Years Ahead'"
      ]
     },
     "execution_count": 25,
     "metadata": {},
     "output_type": "execute_result"
    }
   ],
   "source": [
    "#getting the title\n",
    "NASA_latest_t = soup_news[1].get_text().strip()\n",
    "\n",
    "NASA_latest_t"
   ]
  },
  {
   "cell_type": "code",
   "execution_count": 26,
   "metadata": {},
   "outputs": [
    {
     "data": {
      "text/plain": [
       "'/news/8307/mars-reconnaissance-orbiter-preparing-for-years-ahead/'"
      ]
     },
     "execution_count": 26,
     "metadata": {},
     "output_type": "execute_result"
    }
   ],
   "source": [
    "#getting the paragraph\n",
    "    # getting the paragraph url\n",
    "soup_p = soup_div.find_all('a', href=True)\n",
    "soup_p_url = soup_p[0]['href']\n",
    "soup_p_url"
   ]
  },
  {
   "cell_type": "code",
   "execution_count": 27,
   "metadata": {
    "collapsed": true
   },
   "outputs": [],
   "source": [
    "#    Scrape the href of the first news article\n",
    "url = \"https://mars.nasa.gov/\"\n",
    "news_url = url + soup_p_url\n",
    "# request url\n",
    "r = requests.get(news_url)\n",
    "data = r.text\n",
    "soup = BeautifulSoup(data, \"html.parser\")\n",
    "\n",
    "soup_para = soup.find(class_='wysiwyg_content')\n",
    "soup_para = soup_para.find_all('p')\n"
   ]
  },
  {
   "cell_type": "code",
   "execution_count": 28,
   "metadata": {},
   "outputs": [
    {
     "data": {
      "text/plain": [
       "[\"NASA's Mars Reconnaissance Orbiter (MRO) has begun extra stargazing to help the space agency accomplish advances in Mars exploration over the next decade.\",\n",
       " \"The spacecraft already has worked more than double its planned mission life since launch in 2005. NASA plans to keep using it past the mid-2020s. Increased reliance on a star tracker, and less on aging gyroscopes, is one way the mission is adapting to extend its longevity. Another step is wringing more useful life from batteries. The mission's extended service provides data relay from assets on Mars' surface and observations with its science instruments, despite some degradation in capabilities.\",\n",
       " '\"We know we\\'re a critical element for the Mars Program to support other missions for the long haul, so we\\'re finding ways to extend the spacecraft\\'s life,\" said MRO Project Manager Dan Johnston of NASA\\'s Jet Propulsion Laboratory, Pasadena, California. \"In flight operations, our emphasis is on minimizing risk to the spacecraft while carrying out an ambitious scientific and programmatic plan.\" JPL partners with Lockheed Martin Space, Denver, in operating the spacecraft.',\n",
       " 'In early February, MRO completed its final full-swapover test using only stellar navigation to sense and maintain the spacecraft\\'s orientation, without gyroscopes or accelerometers. The project is evaluating the recent test and planning to shift indefinitely to this \"all-stellar\" mode in March.',\n",
       " 'From MRO\\'s 2005 launch until the \"all-stellar\" capability was uploaded as a software patch last year, the spacecraft always used an inertial measurement unit -- containing gyros and accelerometers -- for attitude control. At Mars, the orbiter\\'s attitude changes almost continuously, with relation to the Sun and other stars, as it rotates once per orbit to keep its science instruments pointed downward at Mars.',\n",
       " 'The spacecraft carries a spare inertial measurement unit. The mission switched from the primary unit to the spare after about 58,000 hours of use, when the primary began showing signs of limited life several years ago. The spare shows normal life progression after 52,000 hours, but now needs to be conserved for when it will be most needed, while the star tracker handles attitude determination for routine operations.',\n",
       " \"The star tracker, which also has a backup on board, uses a camera to image the sky and pattern-recognition software to discern which bright stars are in the field of view. This allows the system to identify the spacecraft's orientation at that moment. Repeating the observations up to several times per second very accurately provides the rate and direction of attitude change.\",\n",
       " '\"In all-stellar mode, we can do normal science and normal relay,\" Johnston said. \"The inertial measurement unit powers back on only when it\\'s needed, such as during safe mode, orbital trim maneuvers, or communications coverage during critical events around a Mars landing.\" Safe mode is a precautionary status the spacecraft enters when it senses unexpected conditions. Precise attitude control is then essential for maintaining communications with Earth and keeping the solar array facing the Sun for power.',\n",
       " \"To prolong battery life, the project is conditioning the two batteries to hold more charge, reducing demand on the batteries, and is planning to reduce the time the orbiter spends in Mars' shadow, when sunlight can't reach the solar arrays. The spacecraft uses its batteries only when it is in shadow, currently for about 40 minutes of every two-hour orbit.\",\n",
       " \"The batteries are recharged by the orbiter's two large solar arrays. The mission now charges the batteries higher than before, to increase their capacity and lifespan. It has reduced the draw on them, in part by adjusting heater temperatures before the spacecraft enters shadow. The adjustment preheats vital parts while solar power is available so the heaters' drain on the batteries, while in shadow, can be reduced.\",\n",
       " \"The near-circle of MRO's orbit stays at nearly the same angle to the Sun, as Mars orbits the Sun and rotates beneath the spacecraft. By design, as the orbiter passes over the sunlit side of the planet during each orbit, the ground beneath it is about halfway between noon and sunset. By shifting the orbit to later in the afternoon, mission managers could reduce the amount of time the spacecraft spends in Mars' shadow each orbit. NASA's Mars Odyssey spacecraft, older than MRO, successfully did this a few years ago. This option to extend battery life would not be used until after MRO has supported new Mars mission landings in 2018 and 2021 by receiving transmissions during the landers' critical arrival events.\",\n",
       " '\"We are counting on Mars Reconnaissance Orbiter remaining in service for many more years,\" said Michael Meyer, lead scientist of NASA\\'s Mars Exploration Program at the agency\\'s Washington headquarters. \"It\\'s not just the communications relay that MRO provides, as important as that is. It\\'s also the science-instrument observations. Those help us understand potential landing sites before they are visited, and interpret how the findings on the surface relate to the planet as a whole.\"',\n",
       " \"MRO continues to investigate Mars with all six of the orbiter's science instruments, a decade after what was initially planned as a two-year science mission to be followed by a two-year relay mission. More than 1,200 scientific publications have been based on MRO observations. Teams operating the two instruments named most often in research papers -- the High Resolution Imaging Science Experiment (HiRISE) camera and the Compact Reconnaissance Imaging Spectrometer for Mars (CRISM) mineral-mapper -- are dealing with challenges but are ready to continue providing valuable observations.\",\n",
       " 'For example, some HiRISE images taken in 2017 and early 2018 show slight blurring not seen earlier in the mission. The cause is under investigation. The percentage of full-resolution images with blurring peaked at 70 percent last October, at about the time when Mars was at the point in its orbit farthest from the Sun. The percentage has since declined to less than 20 percent. Even before the first blurred images were seen, observations with HiRISE commonly used a technique that covers more ground area at half the resolution. This still provides higher resolution than any other camera orbiting Mars -- about 2 feet (60 centimeters) per pixel -- and little blurring has appeared in the resulting images.',\n",
       " 'Using two spectrometers, CRISM can detect a wide range of minerals on Mars. The longer-wavelength spectrometer requires cooling to detect signatures of many minerals, including some associated with water, such as carbonates. To do this during the two-year prime science mission, CRISM used three cryocoolers, one at a time, to keep detectors at minus 235 Fahrenheit (minus 148 Celsius) or colder. A decade later, two of the cryocoolers no longer work. The last has become unreliable, but is still under evaluation after 34,000 hours of operation. Without a cryocooler, CRISM can still observe some near-infrared light at wavelengths valuable for detecting iron oxide and sulfate minerals that indicate past wet environments on Mars.',\n",
       " 'The Context Camera (CTX) continues as it has throughout the mission, adding to near-global coverage and searching for changes on the surface. The Shallow Radar (SHARAD) continues to probe the subsurface of Mars, looking for layering and ice. Two instruments for studying the atmosphere -- the Mars Color Imager (MARCI) and Mars Climate Sounder (MCS) -- continue to build on nearly six Mars years (about 12 Earth years) of recording weather and climate.',\n",
       " \"The University of Arizona operates HiRISE, which was built by Ball Aerospace & Technologies Corp., Boulder, Colorado. The Johns Hopkins University Applied Physics Laboratory, Laurel, Maryland, leads MRO's CRISM investigation. The Italian Space Agency provided SHARAD. Malin Space Science Systems, San Diego, built and operates CTX and MARCI. JPL, a division of Caltech in Pasadena, California, manages the MRO Project for the NASA Science Mission Directorate in Washington and leads the MCS investigation. Lockheed Martin Space built the spacecract.\",\n",
       " '',\n",
       " 'Guy Webster / Andrew Good\\r\\nJet Propulsion Laboratory, Pasadena, Calif.\\r\\n818-354-6278 / 818-393-2433\\nguy.webster@jpl.nasa.gov / andrew.c.good@jpl.nasa.gov',\n",
       " 'Laurie Cantillo / Dwayne Brown\\r\\nNASA Headquarters, Washington\\r\\n202-358-1077 / 202-358-1726\\nlaura.l.cantillo@nasa.gov / dwayne.c.brown@nasa.gov']"
      ]
     },
     "execution_count": 28,
     "metadata": {},
     "output_type": "execute_result"
    }
   ],
   "source": [
    "#    save the text of the paragraphs to a list\n",
    "NASA_latest_p = []\n",
    "for entry in soup_para:\n",
    "    paragraph = entry.get_text().strip()    \n",
    "    NASA_latest_p.append(paragraph)\n",
    "    \n",
    "\n",
    "NASA_latest_p"
   ]
  },
  {
   "cell_type": "markdown",
   "metadata": {
    "collapsed": true
   },
   "source": [
    "### JPL Mars Space Images - Featured Image"
   ]
  },
  {
   "cell_type": "code",
   "execution_count": 29,
   "metadata": {
    "collapsed": true
   },
   "outputs": [],
   "source": [
    "# Visit the url for JPL's Featured Space Image [here](https://www.jpl.nasa.gov/spaceimages/?search=&category=Mars).\n",
    "executable_path = {'executable_path': 'chromedriver.exe'}\n",
    "browser = Browser('chrome', **executable_path, headless=False)\n",
    "url = 'https://www.jpl.nasa.gov/spaceimages/?search=&category=Mars'\n",
    "browser.visit(url)"
   ]
  },
  {
   "cell_type": "code",
   "execution_count": 30,
   "metadata": {
    "collapsed": true
   },
   "outputs": [],
   "source": [
    "# Use splinter to navigate the site and find the image url for the current Featured Mars Image and \n",
    "\n",
    "browser.click_link_by_partial_text('FULL IMAGE')\n"
   ]
  },
  {
   "cell_type": "code",
   "execution_count": 31,
   "metadata": {},
   "outputs": [
    {
     "data": {
      "text/plain": [
       "'https://www.jpl.nasa.gov/spaceimages/images/mediumsize/PIA19871_ip.jpg'"
      ]
     },
     "execution_count": 31,
     "metadata": {},
     "output_type": "execute_result"
    }
   ],
   "source": [
    "# assign the url string to a variable called `featured_image_url`.\n",
    "html = browser.html\n",
    "soup = BeautifulSoup(html, \"html.parser\")\n",
    " \n",
    "feat_img_soup = soup.find_all(class_=\"button fancybox\")\n",
    "\n",
    "feat_img = feat_img_soup[0].get('data-fancybox-href')\n",
    "\n",
    "ori_url = 'https://www.jpl.nasa.gov'\n",
    "featured_image_url = ori_url + feat_img\n",
    "featured_image_url"
   ]
  },
  {
   "cell_type": "markdown",
   "metadata": {},
   "source": [
    "### Mars Weather"
   ]
  },
  {
   "cell_type": "code",
   "execution_count": 32,
   "metadata": {},
   "outputs": [
    {
     "data": {
      "text/plain": [
       "'Sol 1958 (Feb 07, 2018), Sunny, high -14C/6F, low -77C/-106F, pressure at 7.41 hPa, daylight 05:41-17:27'"
      ]
     },
     "execution_count": 32,
     "metadata": {},
     "output_type": "execute_result"
    }
   ],
   "source": [
    "''' \n",
    "*** Visit the Mars Weather twitter account (https://twitter.com/marswxreport?lang=en) and scrape the latest \n",
    "Mars weather tweet from the page. Save the tweet text for the weather report as a variable called `mars_weather`. ***\n",
    "'''\n",
    "url = 'https://twitter.com/marswxreport?lang=en'\n",
    "r = requests.get(url)\n",
    "data = r.text\n",
    "soup = BeautifulSoup(data, 'html.parser')\n",
    "\n",
    "mars_tweets = soup.find(class_='stream-items js-navigable-stream')\n",
    "mars_tweets = mars_tweets.find(class_=\"js-tweet-text-container\")\n",
    "\n",
    "mars_weather = mars_tweets.p.text\n",
    "mars_weather"
   ]
  },
  {
   "cell_type": "markdown",
   "metadata": {},
   "source": [
    "### Mars Facts"
   ]
  },
  {
   "cell_type": "code",
   "execution_count": 33,
   "metadata": {},
   "outputs": [
    {
     "data": {
      "text/html": [
       "<div>\n",
       "<style>\n",
       "    .dataframe thead tr:only-child th {\n",
       "        text-align: right;\n",
       "    }\n",
       "\n",
       "    .dataframe thead th {\n",
       "        text-align: left;\n",
       "    }\n",
       "\n",
       "    .dataframe tbody tr th {\n",
       "        vertical-align: top;\n",
       "    }\n",
       "</style>\n",
       "<table border=\"1\" class=\"dataframe\">\n",
       "  <thead>\n",
       "    <tr style=\"text-align: right;\">\n",
       "      <th></th>\n",
       "      <th>0</th>\n",
       "      <th>1</th>\n",
       "    </tr>\n",
       "  </thead>\n",
       "  <tbody>\n",
       "    <tr>\n",
       "      <th>0</th>\n",
       "      <td>Equatorial Diameter:</td>\n",
       "      <td>6,792 km</td>\n",
       "    </tr>\n",
       "    <tr>\n",
       "      <th>1</th>\n",
       "      <td>Polar Diameter:</td>\n",
       "      <td>6,752 km</td>\n",
       "    </tr>\n",
       "    <tr>\n",
       "      <th>2</th>\n",
       "      <td>Mass:</td>\n",
       "      <td>6.42 x 10^23 kg (10.7% Earth)</td>\n",
       "    </tr>\n",
       "    <tr>\n",
       "      <th>3</th>\n",
       "      <td>Moons:</td>\n",
       "      <td>2 (Phobos &amp; Deimos)</td>\n",
       "    </tr>\n",
       "    <tr>\n",
       "      <th>4</th>\n",
       "      <td>Orbit Distance:</td>\n",
       "      <td>227,943,824 km (1.52 AU)</td>\n",
       "    </tr>\n",
       "    <tr>\n",
       "      <th>5</th>\n",
       "      <td>Orbit Period:</td>\n",
       "      <td>687 days (1.9 years)</td>\n",
       "    </tr>\n",
       "    <tr>\n",
       "      <th>6</th>\n",
       "      <td>Surface Temperature:</td>\n",
       "      <td>-153 to 20 °C</td>\n",
       "    </tr>\n",
       "    <tr>\n",
       "      <th>7</th>\n",
       "      <td>First Record:</td>\n",
       "      <td>2nd millennium BC</td>\n",
       "    </tr>\n",
       "    <tr>\n",
       "      <th>8</th>\n",
       "      <td>Recorded By:</td>\n",
       "      <td>Egyptian astronomers</td>\n",
       "    </tr>\n",
       "  </tbody>\n",
       "</table>\n",
       "</div>"
      ],
      "text/plain": [
       "                      0                              1\n",
       "0  Equatorial Diameter:                       6,792 km\n",
       "1       Polar Diameter:                       6,752 km\n",
       "2                 Mass:  6.42 x 10^23 kg (10.7% Earth)\n",
       "3                Moons:            2 (Phobos & Deimos)\n",
       "4       Orbit Distance:       227,943,824 km (1.52 AU)\n",
       "5         Orbit Period:           687 days (1.9 years)\n",
       "6  Surface Temperature:                  -153 to 20 °C\n",
       "7         First Record:              2nd millennium BC\n",
       "8          Recorded By:           Egyptian astronomers"
      ]
     },
     "execution_count": 33,
     "metadata": {},
     "output_type": "execute_result"
    }
   ],
   "source": [
    "''' \n",
    "*** Visit the Mars Facts webpage (http://space-facts.com/mars/) and use Pandas to scrape the table containing \n",
    "facts about the planet including Diameter, Mass, etc. ***\n",
    "'''\n",
    "facts_url = 'http://space-facts.com/mars/'\n",
    "all_facts_df = pd.read_html(facts_url)     # searches for html tables & returns list of dataframes\n",
    "all_facts_df = all_facts_df[0]\n",
    "all_facts_df"
   ]
  },
  {
   "cell_type": "code",
   "execution_count": 34,
   "metadata": {},
   "outputs": [
    {
     "data": {
      "text/plain": [
       "' # clean up df (may be unnecessary)\\nall_facts_df.rename_axis({0:\"category\", 1:\"content\"}, axis=1, inplace=True)\\nall_facts_df.set_index(\"category\", inplace=True)\\nall_facts_df \\n'"
      ]
     },
     "execution_count": 34,
     "metadata": {},
     "output_type": "execute_result"
    }
   ],
   "source": [
    "''' # clean up df (may be unnecessary)\n",
    "all_facts_df.rename_axis({0:\"category\", 1:\"content\"}, axis=1, inplace=True)\n",
    "all_facts_df.set_index(\"category\", inplace=True)\n",
    "all_facts_df \n",
    "'''"
   ]
  },
  {
   "cell_type": "code",
   "execution_count": 35,
   "metadata": {},
   "outputs": [
    {
     "data": {
      "text/plain": [
       "'<table border=\"1\" class=\"dataframe\">\\n  <tbody>\\n    <tr>\\n      <td>Equatorial Diameter:</td>\\n      <td>6,792 km</td>\\n    </tr>\\n    <tr>\\n      <td>Polar Diameter:</td>\\n      <td>6,752 km</td>\\n    </tr>\\n    <tr>\\n      <td>Mass:</td>\\n      <td>6.42 x 10^23 kg (10.7% Earth)</td>\\n    </tr>\\n    <tr>\\n      <td>Moons:</td>\\n      <td>2 (Phobos &amp; Deimos)</td>\\n    </tr>\\n    <tr>\\n      <td>Orbit Distance:</td>\\n      <td>227,943,824 km (1.52 AU)</td>\\n    </tr>\\n    <tr>\\n      <td>Orbit Period:</td>\\n      <td>687 days (1.9 years)</td>\\n    </tr>\\n    <tr>\\n      <td>Surface Temperature:</td>\\n      <td>-153 to 20 °C</td>\\n    </tr>\\n    <tr>\\n      <td>First Record:</td>\\n      <td>2nd millennium BC</td>\\n    </tr>\\n    <tr>\\n      <td>Recorded By:</td>\\n      <td>Egyptian astronomers</td>\\n    </tr>\\n  </tbody>\\n</table>'"
      ]
     },
     "execution_count": 35,
     "metadata": {},
     "output_type": "execute_result"
    }
   ],
   "source": [
    "# Use Pandas to convert the data to a HTML table string.\n",
    "facts_html = all_facts_df.to_html(header=False, index=False, justify='left')\n",
    "\n",
    "facts_html"
   ]
  },
  {
   "cell_type": "markdown",
   "metadata": {},
   "source": [
    "### Mars Hemispheres"
   ]
  },
  {
   "cell_type": "code",
   "execution_count": 36,
   "metadata": {
    "collapsed": true
   },
   "outputs": [],
   "source": [
    "''' \n",
    "*** Visit the USGS Astrogeology site \n",
    "(https://astrogeology.usgs.gov/search/results?q=hemisphere+enhanced&k1=target&v1=Mars) \n",
    "to obtain high resolution images for each of Mar's hemispheres.\n",
    "'''\n",
    "executable_path = {'executable_path': 'chromedriver.exe'}     # included these 2 lines\n",
    "browser = Browser('chrome', **executable_path, headless=False)     # to prevent browser.visit() failing \n",
    "url = 'https://astrogeology.usgs.gov/search/results?q=hemisphere+enhanced&k1=target&v1=Mars'\n",
    "browser.visit(url)\n"
   ]
  },
  {
   "cell_type": "code",
   "execution_count": 37,
   "metadata": {},
   "outputs": [
    {
     "data": {
      "text/plain": [
       "array(['https://astrogeology.usgs.gov/search/map/Mars/Viking/cerberus_enhanced',\n",
       "       'https://astrogeology.usgs.gov/search/map/Mars/Viking/schiaparelli_enhanced',\n",
       "       'https://astrogeology.usgs.gov/search/map/Mars/Viking/syrtis_major_enhanced',\n",
       "       'https://astrogeology.usgs.gov/search/map/Mars/Viking/valles_marineris_enhanced'],\n",
       "      dtype='<U78')"
      ]
     },
     "execution_count": 37,
     "metadata": {},
     "output_type": "execute_result"
    }
   ],
   "source": [
    "# click each of the links to the hemispheres to find the image url to the full resolution image.\n",
    "#    get list of <a href links> \n",
    "html = browser.html\n",
    "soup = BeautifulSoup(html, 'html.parser')\n",
    "\n",
    "hemi_soup = soup.find_all(class_='itemLink product-item')\n",
    "\n",
    "hemi_href_ls = []\n",
    "\n",
    "for item in hemi_soup:\n",
    "    url_index = 'https://astrogeology.usgs.gov'\n",
    "    href = item['href']\n",
    "    link = url_index + href\n",
    "    hemi_href_ls.append(link)\n",
    "\n",
    "# Get unique hrefs\n",
    "'''     I could just go to these urls separately using browser.visit(url). But I interpret the instructions \n",
    "        as saying that I need to use splinter to click on the link in the browser.     '''\n",
    "hemi_href_ls = np.unique(hemi_href_ls)\n",
    "hemi_href_ls"
   ]
  },
  {
   "cell_type": "code",
   "execution_count": 38,
   "metadata": {},
   "outputs": [
    {
     "data": {
      "text/plain": [
       "\" It seems splinter can only click link based on the exact wording of the text\\nbrowser.click_link_by_partial_text('Cerberus Hemisphere')    #e.g. function will fail to find lower case 'cerberus'\\n\""
      ]
     },
     "execution_count": 38,
     "metadata": {},
     "output_type": "execute_result"
    }
   ],
   "source": [
    "''' It seems splinter can only click link based on the exact wording of the text\n",
    "browser.click_link_by_partial_text('Cerberus Hemisphere')    #e.g. function will fail to find lower case 'cerberus'\n",
    "'''"
   ]
  },
  {
   "cell_type": "code",
   "execution_count": 39,
   "metadata": {},
   "outputs": [
    {
     "data": {
      "text/plain": [
       "'Syrtis Major Hemisphere'"
      ]
     },
     "execution_count": 39,
     "metadata": {},
     "output_type": "execute_result"
    }
   ],
   "source": [
    "# Beautiful soup to search browser html for headers (these contain the hemisphere names)\n",
    "html = browser.html\n",
    "soup = BeautifulSoup(html, 'html.parser')\n",
    "\n",
    "headers_soup = soup.find_all('h3')\n",
    "test = headers_soup[2].text.replace(\" Enhanced\", \"\")\n",
    "test"
   ]
  },
  {
   "cell_type": "code",
   "execution_count": 40,
   "metadata": {},
   "outputs": [
    {
     "data": {
      "text/plain": [
       "[{'img_url': 'https://astropedia.astrogeology.usgs.gov/download/Mars/Viking/cerberus_enhanced.tif/full.jpg',\n",
       "  'title': 'Cerberus Hemisphere'},\n",
       " {'img_url': 'https://astropedia.astrogeology.usgs.gov/download/Mars/Viking/schiaparelli_enhanced.tif/full.jpg',\n",
       "  'title': 'Schiaparelli Hemisphere'},\n",
       " {'img_url': 'https://astropedia.astrogeology.usgs.gov/download/Mars/Viking/syrtis_major_enhanced.tif/full.jpg',\n",
       "  'title': 'Syrtis Major Hemisphere'},\n",
       " {'img_url': 'https://astropedia.astrogeology.usgs.gov/download/Mars/Viking/valles_marineris_enhanced.tif/full.jpg',\n",
       "  'title': 'Valles Marineris Hemisphere'}]"
      ]
     },
     "execution_count": 40,
     "metadata": {},
     "output_type": "execute_result"
    }
   ],
   "source": [
    "# For each header in the beautiful soup, click link associated with it and get img_url \n",
    "hemisphere_image_urls = []\n",
    "url = 'https://astrogeology.usgs.gov/search/results?q=hemisphere+enhanced&k1=target&v1=Mars'\n",
    "\n",
    "for header in headers_soup:\n",
    "    #start at origin url for the Mars hemisphere section \n",
    "    window = browser.windows[0]     # current window, the first window\n",
    "    browser.visit(url)\n",
    "    time.sleep(2)     # wait 2 secs for browser to load \n",
    "    #getting title\n",
    "    title = header.text\n",
    "    title = title.replace(\" Enhanced\", \"\")     #get rid of \" \" + \"Enhanced\" for when dict is appended\n",
    "    browser.click_link_by_partial_text(title)\n",
    "    time.sleep(2)     # again, wait 2 secs for browser to load    \n",
    "    browser.click_link_by_text('Sample')\n",
    "    browser.windows.current = browser.windows[1]     # switch current window to the window that just opened\n",
    "    img_url = browser.url\n",
    "    browser.windows.current = window     # switch the current window back \n",
    "    hemisphere_image_urls.append({'title':title, 'img_url':img_url})\n",
    "    window.close_others()    # close all the other windows to keep browser nice and tidy!\n",
    "\n",
    "hemisphere_image_urls"
   ]
  },
  {
   "cell_type": "code",
   "execution_count": null,
   "metadata": {
    "collapsed": true
   },
   "outputs": [],
   "source": []
  }
 ],
 "metadata": {
  "kernelspec": {
   "display_name": "Python (PythonData)",
   "language": "python",
   "name": "pythondata"
  },
  "language_info": {
   "codemirror_mode": {
    "name": "ipython",
    "version": 3
   },
   "file_extension": ".py",
   "mimetype": "text/x-python",
   "name": "python",
   "nbconvert_exporter": "python",
   "pygments_lexer": "ipython3",
   "version": "3.6.3"
  }
 },
 "nbformat": 4,
 "nbformat_minor": 2
}
