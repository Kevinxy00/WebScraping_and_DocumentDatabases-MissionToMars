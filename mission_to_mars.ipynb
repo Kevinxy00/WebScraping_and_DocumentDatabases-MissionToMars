{
 "cells": [
  {
   "cell_type": "code",
   "execution_count": 2,
   "metadata": {
    "collapsed": true
   },
   "outputs": [],
   "source": [
    "import pandas as pd\n",
    "import numpy as np\n",
    "from bs4 import BeautifulSoup\n",
    "import requests\n",
    "from splinter import Browser\n",
    "import time"
   ]
  },
  {
   "cell_type": "markdown",
   "metadata": {},
   "source": [
    "### NASA Mars News"
   ]
  },
  {
   "cell_type": "code",
   "execution_count": 2,
   "metadata": {
    "collapsed": true
   },
   "outputs": [],
   "source": [
    "# *** Scrape the [NASA Mars News Site] ***\n",
    "url_NASA = \"https://mars.nasa.gov/news\"\n",
    "r = requests.get(url_NASA) # sends a request to the url\n",
    "data = r.text # turns response into texts\n",
    "soup = BeautifulSoup(data, \"html.parser\") # changes the response from text to html"
   ]
  },
  {
   "cell_type": "code",
   "execution_count": 3,
   "metadata": {},
   "outputs": [
    {
     "data": {
      "text/plain": [
       "<a href=\"/news/8308/a-piece-of-mars-is-going-home/\">\n",
       "<div class=\"rollover_description\">\n",
       "<div class=\"rollover_description_inner\">\n",
       "When it launches in 2020, NASA's next Mars rover will carry a chunk of Martian meteorite on board.\n",
       "</div>\n",
       "<div class=\"overlay_arrow\">\n",
       "<img alt=\"More\" src=\"/assets/overlay-arrow.png\"/>\n",
       "</div>\n",
       "</div>\n",
       "<img alt=\"A Piece of Mars is Going Home\" class=\"img-lazy\" data-lazy=\"/system/news_items/list_view_images/8308_PIA22245_320.JPG\" src=\"/assets/loading_320x240.png\"/>\n",
       "</a>"
      ]
     },
     "execution_count": 3,
     "metadata": {},
     "output_type": "execute_result"
    }
   ],
   "source": [
    "# collect the latest News Title and Paragragh Text. Assign the text to variables that you can reference later.\n",
    "soup_div = soup.find(class_=\"slide\") # within div in body, within <ul>, <li class=slide>.\n",
    "soup_news = soup_div.find_all('a') # search by anchor\n",
    "soup_news[0] # note: find_all returns list, and further find_alls only look at one entry in list at a time"
   ]
  },
  {
   "cell_type": "code",
   "execution_count": 4,
   "metadata": {},
   "outputs": [
    {
     "data": {
      "text/plain": [
       "'A Piece of Mars is Going Home'"
      ]
     },
     "execution_count": 4,
     "metadata": {},
     "output_type": "execute_result"
    }
   ],
   "source": [
    "#getting the title\n",
    "NASA_latest_t = soup_news[1].get_text().strip()\n",
    "\n",
    "NASA_latest_t"
   ]
  },
  {
   "cell_type": "code",
   "execution_count": 5,
   "metadata": {},
   "outputs": [
    {
     "data": {
      "text/plain": [
       "'/news/8308/a-piece-of-mars-is-going-home/'"
      ]
     },
     "execution_count": 5,
     "metadata": {},
     "output_type": "execute_result"
    }
   ],
   "source": [
    "#getting the paragraph\n",
    "    # getting the paragraph url\n",
    "soup_p = soup_div.find_all('a', href=True)\n",
    "soup_p_url = soup_p[0]['href']\n",
    "soup_p_url"
   ]
  },
  {
   "cell_type": "code",
   "execution_count": 6,
   "metadata": {
    "collapsed": true
   },
   "outputs": [],
   "source": [
    "#    Scrape the href of the first news article\n",
    "url = \"https://mars.nasa.gov/\"\n",
    "news_url = url + soup_p_url\n",
    "# request url\n",
    "r = requests.get(news_url)\n",
    "data = r.text\n",
    "soup = BeautifulSoup(data, \"html.parser\")\n",
    "\n",
    "soup_para = soup.find(class_='wysiwyg_content')\n",
    "soup_para = soup_para.find_all('p')\n"
   ]
  },
  {
   "cell_type": "code",
   "execution_count": 7,
   "metadata": {},
   "outputs": [
    {
     "data": {
      "text/plain": [
       "['A chunk of Mars will soon be returning home.',\n",
       " \"A piece of a meteorite called Sayh al Uhaymir 008 (SaU008) will be carried on board NASA's Mars 2020 rover mission, now being built at the agency's Jet Propulsion Laboratory in Pasadena, California. This chunk will serve as target practice for a high-precision laser on the rover's arm.\",\n",
       " \"Mars 2020's goal is ambitious: collect samples from the Red Planet's surface that a future mission could potentially return to Earth. One of the rover's many tools will be a laser designed to illuminate rock features as fine as a human hair.\",\n",
       " \"That level of precision requires a calibration target to help tweak the laser's settings. Previous NASA rovers have included calibration targets as well. Depending on the instrument, the target material can include things like rock, metal or glass, and can often look like a painter's palette.\",\n",
       " \"But working on this particular instrument sparked an idea among JPL scientists: why not use an actual piece of Mars? Earth has a limited supply of Martian meteorites, which scientists determined were blasted off Mars' surface millions of years ago.\",\n",
       " \"These meteorites aren't as unique as the geologically diverse samples 2020 will collect. But they're still scientifically interesting -- and perfect for target practice.\",\n",
       " '\"We\\'re studying things on such a fine scale that slight misalignments, caused by changes in temperature or even the rover settling into sand, can require us to correct our aim,\" said Luther Beegle of JPL. Beegle is principal investigator for a laser instrument called SHERLOC (Scanning Habitable Environments with Raman and Luminescence for Organics and Chemicals). \"By studying how the instrument sees a fixed target, we can understand how it will see a piece of the Martian surface.\"',\n",
       " 'SHERLOC will be the first instrument on Mars to use Raman and fluorescence spectroscopies, scientific techniques familiar to forensics experts. Whenever an ultraviolet light shines over certain carbon-based chemicals, they give off the same characteristic glow that you see under a black light.',\n",
       " 'Scientists can use this glow to detect chemicals that form in the presence of life. SHERLOC will photograph the rocks it studies, then map the chemicals it detects across those images. That adds a spatial context to the layers of data Mars 2020 will collect.',\n",
       " '\"This kind of science requires texture and organic chemicals -- two things that our target meteorite will provide,\" said Rohit Bhartia of JPL, SHERLOC\\'s deputy principal investigator.',\n",
       " 'No Flaky Meteorites',\n",
       " 'Martian meteorites are precious in their rarity. Only about 200 have been confirmed by The Meteoritical Society, which has a database listing these vetted meteorites.',\n",
       " \"To select the right one for SHERLOC, JPL turned to contacts at NASA's Johnson Space Center in Houston, as well as the Natural History Museum of London. Not just any Martian meteorite would do: its condition would need to be solid enough that it would not flake apart during the intensity of launch and landing.\",\n",
       " \"It also needed to possess certain chemical features to test SHERLOC's sensitivity. These had to be reasonably easy to detect repeatedly for the calibration target to be useful.\",\n",
       " 'Experts tried several samples, cutting off thin bits to test whether they would crumble. Using a \"flaky\" sample could damage the entire meteorite in the process.',\n",
       " 'The SHERLOC team ultimately agreed on using SaU008, a meteorite found in Oman in 1999. Besides being more rugged than other samples, a piece of it was available courtesy of Caroline Smith, principal curator of meteorites at London’s Natural History Museum.',\n",
       " '\"Every year, we provide hundreds of meteorite specimens to scientists all over the world for study,\" Smith said. \"This is a first for us: sending one of our samples back home for the benefit of science.\"',\n",
       " \"SaU008 will be the first Martian meteorite to have a fragment return to the planet's surface -- though not the first on a return trip to Mars.\",\n",
       " \"NASA's Mars Global Surveyor included a chunk of a meteorite known as Zagami. It's still floating around the Red Planet onboard the now-defunct orbiter.\",\n",
       " \"Additionally, the team behind Mars2020's SuperCam instrument will be adding a Martian meteorite to their own calibration target.\",\n",
       " 'Preparing for Humans on Mars',\n",
       " \"Along with its own Martian meteorite, SHERLOC's calibration target will include several interesting scientific samples for human spaceflight. These include materials that could be used to make spacesuit fabric, gloves and a helmet's visor.\",\n",
       " 'By watching how they hold up under Martian weather, including radiation, NASA will be able to test these materials for future Mars missions.',\n",
       " '\"The SHERLOC instrument is a valuable opportunity to prepare for human spaceflight as well as to perform fundamental scientific investigations of the Martian surface,\" said Marc Fries, a SHERLOC co-investigator and curator of extraterrestrial materials at Johnson Space Center. \"It gives us a convenient way to test material that will keep future astronauts safe when they get to Mars.\"',\n",
       " '',\n",
       " 'Andrew Good\\r\\nJet Propulsion Laboratory, Pasadena, Calif.\\r\\n818-393-2433\\nandrew.c.good@jpl.nasa.gov']"
      ]
     },
     "execution_count": 7,
     "metadata": {},
     "output_type": "execute_result"
    }
   ],
   "source": [
    "#    save the text of the paragraphs to a list\n",
    "NASA_latest_p = []\n",
    "for entry in soup_para:\n",
    "    paragraph = entry.get_text().strip()    \n",
    "    NASA_latest_p.append(paragraph)\n",
    "    \n",
    "\n",
    "NASA_latest_p"
   ]
  },
  {
   "cell_type": "markdown",
   "metadata": {
    "collapsed": true
   },
   "source": [
    "### JPL Mars Space Images - Featured Image"
   ]
  },
  {
   "cell_type": "code",
   "execution_count": 3,
   "metadata": {},
   "outputs": [],
   "source": [
    "# Visit the url for JPL's Featured Space Image [here](https://www.jpl.nasa.gov/spaceimages/?search=&category=Mars).\n",
    "executable_path = {'executable_path': 'chromedriver.exe'}\n",
    "browser = Browser('chrome', **executable_path, headless=False)\n",
    "url = 'https://www.jpl.nasa.gov/spaceimages/?search=&category=Mars'\n",
    "browser.visit(url)"
   ]
  },
  {
   "cell_type": "code",
   "execution_count": 4,
   "metadata": {
    "collapsed": true
   },
   "outputs": [],
   "source": [
    "# Use splinter to navigate the site and find the image url for the current Featured Mars Image\n",
    "#     the mars featured images are under a list element of the slide class. '>' signifies a child element.  \n",
    "browser.find_by_css('li.slide>a.fancybox').first.click()\n",
    "time.sleep(1)\n"
   ]
  },
  {
   "cell_type": "code",
   "execution_count": 5,
   "metadata": {
    "collapsed": true
   },
   "outputs": [],
   "source": [
    "# clicks the 'more info' button (caution!: the 'share' button is under a similar but different class)\n",
    "browser.find_by_css('div.buttons>a.button').first.click()"
   ]
  },
  {
   "cell_type": "code",
   "execution_count": 6,
   "metadata": {},
   "outputs": [],
   "source": [
    "# assign the url string to a variable called `featured_image_url`.\n",
    "#     Here, I decide to get both the full-size .jpg and an 800x600 size image for the webpage\n",
    "html = browser.html\n",
    "soup = BeautifulSoup(html, \"html.parser\")\n",
    "\n",
    "# full-size jpg (to be linked if image is clicked)\n",
    "feat_full_img_soup = soup.find(class_=\"main_image\")\n",
    "feat_full_img = feat_full_img_soup.get('src')\n"
   ]
  },
  {
   "cell_type": "code",
   "execution_count": 7,
   "metadata": {
    "collapsed": true
   },
   "outputs": [],
   "source": [
    "# smaller size jpg (to be displayed on the webpage)\n",
    "#     uses splinter instead of beautiful soup\n",
    "browser.click_link_by_partial_href('800x600.jpg')\n",
    "#     switch over to the next browser (window no. 2)\n",
    "#     save it's url, then close 2nd window\n",
    "browser.windows.current = browser.windows[1]  \n",
    "featured_image_url = browser.url\n",
    "browser.windows[1].close()\n"
   ]
  },
  {
   "cell_type": "code",
   "execution_count": 9,
   "metadata": {},
   "outputs": [
    {
     "data": {
      "text/plain": [
       "'https://www.jpl.nasa.gov/spaceimages/images/largesize/PIA22273_hires.jpg'"
      ]
     },
     "execution_count": 9,
     "metadata": {},
     "output_type": "execute_result"
    }
   ],
   "source": [
    "# save the two urls \n",
    "ori_url = 'https://www.jpl.nasa.gov'\n",
    "feat_full_img = ori_url + feat_full_img\n",
    "\n",
    "feat_full_img\n"
   ]
  },
  {
   "cell_type": "markdown",
   "metadata": {},
   "source": [
    "### Mars Weather"
   ]
  },
  {
   "cell_type": "code",
   "execution_count": 12,
   "metadata": {},
   "outputs": [
    {
     "data": {
      "text/plain": [
       "'Sol 1962 (Feb 12, 2018), Sunny, high -14C/6F, low -78C/-108F, pressure at 7.38 hPa, daylight 05:40-17:27'"
      ]
     },
     "execution_count": 12,
     "metadata": {},
     "output_type": "execute_result"
    }
   ],
   "source": [
    "''' \n",
    "*** Visit the Mars Weather twitter account (https://twitter.com/marswxreport?lang=en) and scrape the latest \n",
    "Mars weather tweet from the page. Save the tweet text for the weather report as a variable called `mars_weather`. ***\n",
    "'''\n",
    "url = 'https://twitter.com/marswxreport?lang=en'\n",
    "r = requests.get(url)\n",
    "data = r.text\n",
    "soup = BeautifulSoup(data, 'html.parser')\n",
    "\n",
    "mars_tweets = soup.find(class_='stream-items js-navigable-stream')\n",
    "mars_tweets = mars_tweets.find(class_=\"js-tweet-text-container\")\n",
    "\n",
    "mars_weather = mars_tweets.p.text\n",
    "mars_weather"
   ]
  },
  {
   "cell_type": "markdown",
   "metadata": {},
   "source": [
    "### Mars Facts"
   ]
  },
  {
   "cell_type": "code",
   "execution_count": 13,
   "metadata": {},
   "outputs": [
    {
     "data": {
      "text/html": [
       "<div>\n",
       "<style>\n",
       "    .dataframe thead tr:only-child th {\n",
       "        text-align: right;\n",
       "    }\n",
       "\n",
       "    .dataframe thead th {\n",
       "        text-align: left;\n",
       "    }\n",
       "\n",
       "    .dataframe tbody tr th {\n",
       "        vertical-align: top;\n",
       "    }\n",
       "</style>\n",
       "<table border=\"1\" class=\"dataframe\">\n",
       "  <thead>\n",
       "    <tr style=\"text-align: right;\">\n",
       "      <th></th>\n",
       "      <th>0</th>\n",
       "      <th>1</th>\n",
       "    </tr>\n",
       "  </thead>\n",
       "  <tbody>\n",
       "    <tr>\n",
       "      <th>0</th>\n",
       "      <td>Equatorial Diameter:</td>\n",
       "      <td>6,792 km</td>\n",
       "    </tr>\n",
       "    <tr>\n",
       "      <th>1</th>\n",
       "      <td>Polar Diameter:</td>\n",
       "      <td>6,752 km</td>\n",
       "    </tr>\n",
       "    <tr>\n",
       "      <th>2</th>\n",
       "      <td>Mass:</td>\n",
       "      <td>6.42 x 10^23 kg (10.7% Earth)</td>\n",
       "    </tr>\n",
       "    <tr>\n",
       "      <th>3</th>\n",
       "      <td>Moons:</td>\n",
       "      <td>2 (Phobos &amp; Deimos)</td>\n",
       "    </tr>\n",
       "    <tr>\n",
       "      <th>4</th>\n",
       "      <td>Orbit Distance:</td>\n",
       "      <td>227,943,824 km (1.52 AU)</td>\n",
       "    </tr>\n",
       "    <tr>\n",
       "      <th>5</th>\n",
       "      <td>Orbit Period:</td>\n",
       "      <td>687 days (1.9 years)</td>\n",
       "    </tr>\n",
       "    <tr>\n",
       "      <th>6</th>\n",
       "      <td>Surface Temperature:</td>\n",
       "      <td>-153 to 20 °C</td>\n",
       "    </tr>\n",
       "    <tr>\n",
       "      <th>7</th>\n",
       "      <td>First Record:</td>\n",
       "      <td>2nd millennium BC</td>\n",
       "    </tr>\n",
       "    <tr>\n",
       "      <th>8</th>\n",
       "      <td>Recorded By:</td>\n",
       "      <td>Egyptian astronomers</td>\n",
       "    </tr>\n",
       "  </tbody>\n",
       "</table>\n",
       "</div>"
      ],
      "text/plain": [
       "                      0                              1\n",
       "0  Equatorial Diameter:                       6,792 km\n",
       "1       Polar Diameter:                       6,752 km\n",
       "2                 Mass:  6.42 x 10^23 kg (10.7% Earth)\n",
       "3                Moons:            2 (Phobos & Deimos)\n",
       "4       Orbit Distance:       227,943,824 km (1.52 AU)\n",
       "5         Orbit Period:           687 days (1.9 years)\n",
       "6  Surface Temperature:                  -153 to 20 °C\n",
       "7         First Record:              2nd millennium BC\n",
       "8          Recorded By:           Egyptian astronomers"
      ]
     },
     "execution_count": 13,
     "metadata": {},
     "output_type": "execute_result"
    }
   ],
   "source": [
    "''' \n",
    "*** Visit the Mars Facts webpage (http://space-facts.com/mars/) and use Pandas to scrape the table containing \n",
    "facts about the planet including Diameter, Mass, etc. ***\n",
    "'''\n",
    "facts_url = 'http://space-facts.com/mars/'\n",
    "all_facts_df = pd.read_html(facts_url)     # searches for html tables & returns list of dataframes\n",
    "all_facts_df = all_facts_df[0]\n",
    "all_facts_df"
   ]
  },
  {
   "cell_type": "code",
   "execution_count": 14,
   "metadata": {},
   "outputs": [
    {
     "data": {
      "text/plain": [
       "' # clean up df (may be unnecessary)\\nall_facts_df.rename_axis({0:\"category\", 1:\"content\"}, axis=1, inplace=True)\\nall_facts_df.set_index(\"category\", inplace=True)\\nall_facts_df \\n'"
      ]
     },
     "execution_count": 14,
     "metadata": {},
     "output_type": "execute_result"
    }
   ],
   "source": [
    "''' # clean up df (may be unnecessary)\n",
    "all_facts_df.rename_axis({0:\"category\", 1:\"content\"}, axis=1, inplace=True)\n",
    "all_facts_df.set_index(\"category\", inplace=True)\n",
    "all_facts_df \n",
    "'''"
   ]
  },
  {
   "cell_type": "code",
   "execution_count": 15,
   "metadata": {},
   "outputs": [
    {
     "data": {
      "text/plain": [
       "'<table border=\"1\" class=\"dataframe\">\\n  <tbody>\\n    <tr>\\n      <td>Equatorial Diameter:</td>\\n      <td>6,792 km</td>\\n    </tr>\\n    <tr>\\n      <td>Polar Diameter:</td>\\n      <td>6,752 km</td>\\n    </tr>\\n    <tr>\\n      <td>Mass:</td>\\n      <td>6.42 x 10^23 kg (10.7% Earth)</td>\\n    </tr>\\n    <tr>\\n      <td>Moons:</td>\\n      <td>2 (Phobos &amp; Deimos)</td>\\n    </tr>\\n    <tr>\\n      <td>Orbit Distance:</td>\\n      <td>227,943,824 km (1.52 AU)</td>\\n    </tr>\\n    <tr>\\n      <td>Orbit Period:</td>\\n      <td>687 days (1.9 years)</td>\\n    </tr>\\n    <tr>\\n      <td>Surface Temperature:</td>\\n      <td>-153 to 20 °C</td>\\n    </tr>\\n    <tr>\\n      <td>First Record:</td>\\n      <td>2nd millennium BC</td>\\n    </tr>\\n    <tr>\\n      <td>Recorded By:</td>\\n      <td>Egyptian astronomers</td>\\n    </tr>\\n  </tbody>\\n</table>'"
      ]
     },
     "execution_count": 15,
     "metadata": {},
     "output_type": "execute_result"
    }
   ],
   "source": [
    "# Use Pandas to convert the data to a HTML table string.\n",
    "facts_html = all_facts_df.to_html(header=False, index=False, justify='left')\n",
    "\n",
    "facts_html"
   ]
  },
  {
   "cell_type": "markdown",
   "metadata": {},
   "source": [
    "### Mars Hemispheres"
   ]
  },
  {
   "cell_type": "code",
   "execution_count": 16,
   "metadata": {
    "collapsed": true
   },
   "outputs": [],
   "source": [
    "''' \n",
    "*** Visit the USGS Astrogeology site \n",
    "(https://astrogeology.usgs.gov/search/results?q=hemisphere+enhanced&k1=target&v1=Mars) \n",
    "to obtain high resolution images for each of Mar's hemispheres.\n",
    "'''\n",
    "executable_path = {'executable_path': 'chromedriver.exe'}     # included these 2 lines\n",
    "browser = Browser('chrome', **executable_path, headless=False)     # to prevent browser.visit() failing \n",
    "url = 'https://astrogeology.usgs.gov/search/results?q=hemisphere+enhanced&k1=target&v1=Mars'\n",
    "browser.visit(url)\n"
   ]
  },
  {
   "cell_type": "code",
   "execution_count": 17,
   "metadata": {},
   "outputs": [
    {
     "data": {
      "text/plain": [
       "array(['https://astrogeology.usgs.gov/search/map/Mars/Viking/cerberus_enhanced',\n",
       "       'https://astrogeology.usgs.gov/search/map/Mars/Viking/schiaparelli_enhanced',\n",
       "       'https://astrogeology.usgs.gov/search/map/Mars/Viking/syrtis_major_enhanced',\n",
       "       'https://astrogeology.usgs.gov/search/map/Mars/Viking/valles_marineris_enhanced'],\n",
       "      dtype='<U78')"
      ]
     },
     "execution_count": 17,
     "metadata": {},
     "output_type": "execute_result"
    }
   ],
   "source": [
    "# click each of the links to the hemispheres to find the image url to the full resolution image.\n",
    "#    get list of <a href links> \n",
    "html = browser.html\n",
    "soup = BeautifulSoup(html, 'html.parser')\n",
    "\n",
    "hemi_soup = soup.find_all(class_='itemLink product-item')\n",
    "\n",
    "hemi_href_ls = []\n",
    "\n",
    "for item in hemi_soup:\n",
    "    url_index = 'https://astrogeology.usgs.gov'\n",
    "    href = item['href']\n",
    "    link = url_index + href\n",
    "    hemi_href_ls.append(link)\n",
    "\n",
    "# Get unique hrefs\n",
    "'''     I could just go to these urls separately using browser.visit(url). But I interpret the instructions \n",
    "        as saying that I need to use splinter to click on the link in the browser.     '''\n",
    "hemi_href_ls = np.unique(hemi_href_ls)\n",
    "hemi_href_ls"
   ]
  },
  {
   "cell_type": "code",
   "execution_count": 18,
   "metadata": {},
   "outputs": [
    {
     "data": {
      "text/plain": [
       "\" Caution!: It seems splinter can only click link based on the exact wording of the text\\nbrowser.click_link_by_partial_text('Cerberus Hemisphere')    #e.g. function will fail to find lower case 'cerberus'\\n\""
      ]
     },
     "execution_count": 18,
     "metadata": {},
     "output_type": "execute_result"
    }
   ],
   "source": [
    "''' Caution!: It seems splinter can only click link based on the exact wording of the text\n",
    "browser.click_link_by_partial_text('Cerberus Hemisphere')    #e.g. function will fail to find lower case 'cerberus'\n",
    "'''"
   ]
  },
  {
   "cell_type": "code",
   "execution_count": 19,
   "metadata": {},
   "outputs": [
    {
     "data": {
      "text/plain": [
       "'Syrtis Major Hemisphere'"
      ]
     },
     "execution_count": 19,
     "metadata": {},
     "output_type": "execute_result"
    }
   ],
   "source": [
    "# Beautiful soup to search browser html for headers (these contain the hemisphere names)\n",
    "html = browser.html\n",
    "soup = BeautifulSoup(html, 'html.parser')\n",
    "\n",
    "headers_soup = soup.find_all('h3')\n",
    "#eliminates \" Enhanced\" string at the end of each header. \n",
    "test = headers_soup[2].text.replace(\" Enhanced\", \"\")\n",
    "test"
   ]
  },
  {
   "cell_type": "code",
   "execution_count": 20,
   "metadata": {},
   "outputs": [
    {
     "data": {
      "text/plain": [
       "[{'img_url': 'https://astropedia.astrogeology.usgs.gov/download/Mars/Viking/cerberus_enhanced.tif/full.jpg',\n",
       "  'title': 'Cerberus Hemisphere'},\n",
       " {'img_url': 'https://astropedia.astrogeology.usgs.gov/download/Mars/Viking/schiaparelli_enhanced.tif/full.jpg',\n",
       "  'title': 'Schiaparelli Hemisphere'},\n",
       " {'img_url': 'https://astropedia.astrogeology.usgs.gov/download/Mars/Viking/syrtis_major_enhanced.tif/full.jpg',\n",
       "  'title': 'Syrtis Major Hemisphere'},\n",
       " {'img_url': 'https://astropedia.astrogeology.usgs.gov/download/Mars/Viking/valles_marineris_enhanced.tif/full.jpg',\n",
       "  'title': 'Valles Marineris Hemisphere'}]"
      ]
     },
     "execution_count": 20,
     "metadata": {},
     "output_type": "execute_result"
    }
   ],
   "source": [
    "# For each header in the beautiful soup, click link associated with it and get img_url \n",
    "hemisphere_image_urls = []\n",
    "url = 'https://astrogeology.usgs.gov/search/results?q=hemisphere+enhanced&k1=target&v1=Mars'\n",
    "\n",
    "for header in headers_soup:\n",
    "    #start at origin url for the Mars hemisphere section \n",
    "    window = browser.windows[0]     # current window, the first window\n",
    "    browser.visit(url)\n",
    "    time.sleep(2)     # wait 2 secs for browser to load \n",
    "    #getting title\n",
    "    title = header.text\n",
    "    title = title.replace(\" Enhanced\", \"\")     #get rid of \" \" + \"Enhanced\" for when dict is appended\n",
    "    browser.click_link_by_partial_text(title)\n",
    "    time.sleep(2)     # again, wait 2 secs for browser to load    \n",
    "    browser.click_link_by_text('Sample')\n",
    "    browser.windows.current = browser.windows[1]     # switch current window to the window that just opened\n",
    "    img_url = browser.url\n",
    "    browser.windows.current = window     # switch the current window back \n",
    "    hemisphere_image_urls.append({'title':title, 'img_url':img_url})\n",
    "    window.close_others()    # close all the other windows to keep browser nice and tidy!\n",
    "\n",
    "hemisphere_image_urls"
   ]
  },
  {
   "cell_type": "code",
   "execution_count": null,
   "metadata": {
    "collapsed": true
   },
   "outputs": [],
   "source": []
  }
 ],
 "metadata": {
  "kernelspec": {
   "display_name": "Python (PythonData)",
   "language": "python",
   "name": "pythondata"
  }
 },
 "nbformat": 4,
 "nbformat_minor": 2
}
