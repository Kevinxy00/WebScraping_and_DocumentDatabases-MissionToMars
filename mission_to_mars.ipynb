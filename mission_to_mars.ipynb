{
 "cells": [
  {
   "cell_type": "code",
   "execution_count": 1,
   "metadata": {
    "collapsed": true
   },
   "outputs": [],
   "source": [
    "import pandas as pd\n",
    "import numpy as np\n",
    "from bs4 import BeautifulSoup\n",
    "import requests\n",
    "from splinter import Browser\n",
    "import time"
   ]
  },
  {
   "cell_type": "markdown",
   "metadata": {},
   "source": [
    "### NASA Mars News"
   ]
  },
  {
   "cell_type": "code",
   "execution_count": 2,
   "metadata": {
    "collapsed": true
   },
   "outputs": [],
   "source": [
    "# *** Scrape the [NASA Mars News Site] ***\n",
    "url_NASA = \"https://mars.nasa.gov/news\"\n",
    "r = requests.get(url_NASA) # sends a request to the url\n",
    "data = r.text # turns response into texts\n",
    "soup = BeautifulSoup(data, \"html.parser\") # changes the response from text to html"
   ]
  },
  {
   "cell_type": "code",
   "execution_count": 3,
   "metadata": {},
   "outputs": [
    {
     "data": {
      "text/plain": [
       "<a href=\"/news/8305/tiny-crystal-shapes-get-close-look-from-mars-rover/\">\n",
       "<div class=\"rollover_description\">\n",
       "<div class=\"rollover_description_inner\">\n",
       "Star-shaped, tiny, dark bumps in the fine-layered bright bedrock of a Martian ridge are drawing close inspection by NASA's Curiosity Mars rover.\n",
       "</div>\n",
       "<div class=\"overlay_arrow\">\n",
       "<img alt=\"More\" src=\"/assets/overlay-arrow.png\"/>\n",
       "</div>\n",
       "</div>\n",
       "<img alt=\"Tiny Crystal Shapes Get Close Look From Mars Rover\" class=\"img-lazy\" data-lazy=\"/system/news_items/list_view_images/8305_pia22213_320.jpg\" src=\"/assets/loading_320x240.png\"/>\n",
       "</a>"
      ]
     },
     "execution_count": 3,
     "metadata": {},
     "output_type": "execute_result"
    }
   ],
   "source": [
    "# collect the latest News Title and Paragragh Text. Assign the text to variables that you can reference later.\n",
    "soup_div = soup.find(class_=\"slide\") # within div in body, within <ul>, <li class=slide>.\n",
    "soup_news = soup_div.find_all('a') # search by anchor\n",
    "soup_news[0] # note: find_all returns list, and further find_alls only look at one entry in list at a time"
   ]
  },
  {
   "cell_type": "code",
   "execution_count": 4,
   "metadata": {},
   "outputs": [
    {
     "data": {
      "text/plain": [
       "'Tiny Crystal Shapes Get Close Look From Mars Rover'"
      ]
     },
     "execution_count": 4,
     "metadata": {},
     "output_type": "execute_result"
    }
   ],
   "source": [
    "#getting the title\n",
    "NASA_latest_t = soup_news[1].get_text().strip()\n",
    "\n",
    "NASA_latest_t"
   ]
  },
  {
   "cell_type": "code",
   "execution_count": 5,
   "metadata": {},
   "outputs": [
    {
     "data": {
      "text/plain": [
       "'/news/8305/tiny-crystal-shapes-get-close-look-from-mars-rover/'"
      ]
     },
     "execution_count": 5,
     "metadata": {},
     "output_type": "execute_result"
    }
   ],
   "source": [
    "#getting the paragraph\n",
    "    # getting the paragraph url\n",
    "soup_p = soup_div.find_all('a', href=True)\n",
    "soup_p_url = soup_p[0]['href']\n",
    "soup_p_url"
   ]
  },
  {
   "cell_type": "code",
   "execution_count": 6,
   "metadata": {
    "collapsed": true
   },
   "outputs": [],
   "source": [
    "#    Scrape the href of the first news article\n",
    "url = \"https://mars.nasa.gov/\"\n",
    "news_url = url + soup_p_url\n",
    "# request url\n",
    "r = requests.get(news_url)\n",
    "data = r.text\n",
    "soup = BeautifulSoup(data, \"html.parser\")\n",
    "\n",
    "soup_para = soup.find(class_='wysiwyg_content')\n",
    "soup_para = soup_para.find_all('p')\n"
   ]
  },
  {
   "cell_type": "code",
   "execution_count": 7,
   "metadata": {},
   "outputs": [
    {
     "data": {
      "text/plain": [
       "[\"Star-shaped and swallowtail-shaped tiny, dark bumps in fine-layered bright bedrock of a Martian ridge are drawing close inspection by NASA's Curiosity Mars rover.\",\n",
       " 'This set of shapes looks familiar to geologists who have studied gypsum crystals formed in drying lakes on Earth, but Curiosity\\'s science team is considering multiple possibilities for the origin of these features on \"Vera Rubin Ridge\" on Mars.',\n",
       " \"One uncertainty the rover's inspection may resolve is the timing of when the crystal-shaped features formed, relative to when layers of sediment accumulated around them. Another is whether the original mineral that crystallized into these shapes remains in them or was subsequently dissolved away and replaced by something else. Answers may point to evidence of a drying lake or to groundwater that flowed through the sediment after it became cemented into rock.\",\n",
       " \"The rover team also is investigating other clues on the same area to learn more about the Red Planet's history. These include stick-shaped features the size of rice grains, mineral veins with both bright and dark zones, color variations in the bedrock, smoothly horizontal laminations that vary more than tenfold in thickness of individual layers, and more than fourfold variation in the iron content of local rock targets examined by the rover.\",\n",
       " '\"There\\'s just a treasure trove of interesting targets concentrated in this one area,\" said Curiosity Project Scientist Ashwin Vasavada of NASA\\'s Jet Propulsion Laboratory, Pasadena, California. \"Each is a clue, and the more clues, the better. It\\'s going to be fun figuring out what it all means.\"',\n",
       " 'Vera Rubin Ridge stands out as an erosion-resistant band on the north slope of lower Mount Sharp inside Gale Crater. It was a planned destination for Curiosity even before the rover\\'s 2012 landing on the crater floor near the mountain. The rover began climbing the ridge about five months ago and has now reached the uphill, southern edge. Some features here might be related to a transition to the next destination area uphill, which is called the \"Clay Unit\" because of clay minerals detected from orbit.',\n",
       " 'The team drove the rover to a site called \"Jura\" in mid-January to examine an area where -- even in images from orbit -- the bedrock is noticeably pale and gray, compared to the red, hematite-bearing bedrock forming most of Vera Rubin Ridge.',\n",
       " '\"These tiny \\'V\\' shapes really caught our attention, but they were not at all the reason we went to that rock,\" said Curiosity science-team member Abigail Fraeman of JPL. \"We were looking at the color change from one area to another. We were lucky to see the crystals. They\\'re so tiny, you don\\'t see them until you\\'re right on them.\"',\n",
       " 'The features are about the size of a sesame seed. Some are single elongated crystals. Commonly, two or more coalesce into V-shaped \"swallowtails\" or more complex \"lark\\'s foot\" or star configurations. \"These shapes are characteristic of gypsum crystals,\" said Sanjeev Gupta, a Curiosity science-team member at Imperial College, London, who has studied such crystals in rocks of Scotland. Gypsum is a form of calcium sulfate. \"These can form when salts become concentrated in water, such as in an evaporating lake.\"',\n",
       " 'The finely laminated bedrock at Jura is thought to result from lakebed sedimentation, as has been true in several lower, older geological layers Curiosity has examined. However, an alternative to the crystals forming in an evaporating lake is that they formed much later from salty fluids moving through the rock. That is also a type of evidence Curiosity has documented in multiple geological layers, where subsurface fluids deposited features such as mineral veins.',\n",
       " 'Some rock targets examined in the Jura area have two-toned mineral veins that formed after the lake sediments had hardened into rock. Brighter portions contain calcium sulfate; darker portions contain more iron. Some of the features shaped like gypsum crystals appear darker than gypsum, are enriched in iron, or are empty. These are clues that the original crystallizing material may have been replaced or removed by later effects of underground water.',\n",
       " 'The small, stick-shaped features were first seen two days before Curiosity reached Jura. All raw images from Mars rovers are quickly posted online, and some showing the \"sticks\" drew news-media attention comparing them to fossils. Among the alternative possibilities is that they are bits of the dark vein material. Rover science team members have been more excited about the swallowtails than the sticks.',\n",
       " '\"So far on this mission, most of the evidence we\\'ve seen about ancient lakes in Gale Crater has been for relatively fresh, non-salty water,\" Vasavada said. \"If we start seeing lakes becoming saltier with time, that would help us understand how the environment changed in Gale Crater, and it\\'s consistent with an overall pattern that water on Mars became more scarce over time.\"',\n",
       " 'Such a change could be like the difference between freshwater mountain lakes, resupplied often with snowmelt that keeps salts diluted, and salty lakes in deserts, where water evaporates faster than it is replaced.',\n",
       " 'If the crystals formed inside hardened rock much later, rather than in an evaporating lake, they offer evidence about the chemistry of a wet underground environment.',\n",
       " '\"In either scenario, these crystals are a new type of evidence that builds the story of persistent water and a long-lived habitable environment on Mars,\" Vasavada said.',\n",
       " 'Variations in iron content in the veins, smaller features and surrounding bedrock might provide clues about conditions favorable for microbial life. Iron oxides vary in their solubility in water, with more-oxidized types generally less likely to be dissolved and transported. An environment with a range of oxidation states can provide a battery-like energy gradient exploitable by some types of microbes.',\n",
       " '\"In upper Vera Rubin Ridge, we see clues that there were fluids carrying iron and, through some mechanism, the iron precipitated out,\" Fraeman said. \"There was a change in fluid chemistry that could be significant for habitability.\"',\n",
       " \"For more about NASA's Curiosity Mars rover mission, visit:\",\n",
       " 'https://mars.jpl.nasa.gov/msl',\n",
       " '',\n",
       " 'Guy Webster / Andrew Good\\r\\nJet Propulsion Laboratory, Pasadena, Calif.\\r\\n818-354-6278 / 818-393-2433\\nguy.webster@jpl.nasa.gov / andrew.c.good@jpl.nasa.gov',\n",
       " 'Laurie Cantillo / Dwayne Brown\\r\\nNASA Headquarters, Washington\\r\\n202-358-1077 / 202-358-1726\\nlaura.l.cantillo@nasa.gov / dwayne.c.brown@nasa.gov']"
      ]
     },
     "execution_count": 7,
     "metadata": {},
     "output_type": "execute_result"
    }
   ],
   "source": [
    "#    save the text of the paragraphs to a list\n",
    "NASA_latest_p = []\n",
    "for entry in soup_para:\n",
    "    paragraph = entry.get_text().strip()    \n",
    "    NASA_latest_p.append(paragraph)\n",
    "    \n",
    "\n",
    "NASA_latest_p"
   ]
  },
  {
   "cell_type": "markdown",
   "metadata": {
    "collapsed": true
   },
   "source": [
    "### JPL Mars Space Images - Featured Image"
   ]
  },
  {
   "cell_type": "code",
   "execution_count": 8,
   "metadata": {
    "collapsed": true
   },
   "outputs": [],
   "source": [
    "# Visit the url for JPL's Featured Space Image [here](https://www.jpl.nasa.gov/spaceimages/?search=&category=Mars).\n",
    "executable_path = {'executable_path': 'chromedriver.exe'}\n",
    "browser = Browser('chrome', **executable_path, headless=False)\n",
    "url = 'https://www.jpl.nasa.gov/spaceimages/?search=&category=Mars'\n",
    "browser.visit(url)"
   ]
  },
  {
   "cell_type": "code",
   "execution_count": 9,
   "metadata": {
    "collapsed": true
   },
   "outputs": [],
   "source": [
    "# Use splinter to navigate the site and find the image url for the current Featured Mars Image and \n",
    "\n",
    "browser.click_link_by_partial_text('FULL IMAGE')\n"
   ]
  },
  {
   "cell_type": "code",
   "execution_count": 10,
   "metadata": {},
   "outputs": [
    {
     "data": {
      "text/plain": [
       "'https://www.jpl.nasa.gov/spaceimages/images/mediumsize/PIA14317_ip.jpg'"
      ]
     },
     "execution_count": 10,
     "metadata": {},
     "output_type": "execute_result"
    }
   ],
   "source": [
    "# assign the url string to a variable called `featured_image_url`.\n",
    "html = browser.html\n",
    "soup = BeautifulSoup(html, \"html.parser\")\n",
    " \n",
    "feat_img_soup = soup.find_all(class_=\"button fancybox\")\n",
    "\n",
    "feat_img = feat_img_soup[0].get('data-fancybox-href')\n",
    "\n",
    "ori_url = 'https://www.jpl.nasa.gov'\n",
    "featured_image_url = ori_url + feat_img\n",
    "featured_image_url"
   ]
  },
  {
   "cell_type": "markdown",
   "metadata": {},
   "source": [
    "### Mars Weather"
   ]
  },
  {
   "cell_type": "code",
   "execution_count": 11,
   "metadata": {},
   "outputs": [
    {
     "data": {
      "text/plain": [
       "'Sol 1955 (Feb 04, 2018), Sunny, high -21C/-5F, low -77C/-106F, pressure at 7.45 hPa, daylight 05:41-17:27'"
      ]
     },
     "execution_count": 11,
     "metadata": {},
     "output_type": "execute_result"
    }
   ],
   "source": [
    "''' \n",
    "*** Visit the Mars Weather twitter account (https://twitter.com/marswxreport?lang=en) and scrape the latest \n",
    "Mars weather tweet from the page. Save the tweet text for the weather report as a variable called `mars_weather`. ***\n",
    "'''\n",
    "url = 'https://twitter.com/marswxreport?lang=en'\n",
    "r = requests.get(url)\n",
    "data = r.text\n",
    "soup = BeautifulSoup(data, 'html.parser')\n",
    "\n",
    "mars_tweets = soup.find(class_='stream-items js-navigable-stream')\n",
    "mars_tweets = mars_tweets.find(class_=\"js-tweet-text-container\")\n",
    "\n",
    "mars_weather = mars_tweets.p.text\n",
    "mars_weather"
   ]
  },
  {
   "cell_type": "markdown",
   "metadata": {},
   "source": [
    "### Mars Facts"
   ]
  },
  {
   "cell_type": "code",
   "execution_count": 12,
   "metadata": {},
   "outputs": [
    {
     "data": {
      "text/html": [
       "<div>\n",
       "<style>\n",
       "    .dataframe thead tr:only-child th {\n",
       "        text-align: right;\n",
       "    }\n",
       "\n",
       "    .dataframe thead th {\n",
       "        text-align: left;\n",
       "    }\n",
       "\n",
       "    .dataframe tbody tr th {\n",
       "        vertical-align: top;\n",
       "    }\n",
       "</style>\n",
       "<table border=\"1\" class=\"dataframe\">\n",
       "  <thead>\n",
       "    <tr style=\"text-align: right;\">\n",
       "      <th></th>\n",
       "      <th>0</th>\n",
       "      <th>1</th>\n",
       "    </tr>\n",
       "  </thead>\n",
       "  <tbody>\n",
       "    <tr>\n",
       "      <th>0</th>\n",
       "      <td>Equatorial Diameter:</td>\n",
       "      <td>6,792 km</td>\n",
       "    </tr>\n",
       "    <tr>\n",
       "      <th>1</th>\n",
       "      <td>Polar Diameter:</td>\n",
       "      <td>6,752 km</td>\n",
       "    </tr>\n",
       "    <tr>\n",
       "      <th>2</th>\n",
       "      <td>Mass:</td>\n",
       "      <td>6.42 x 10^23 kg (10.7% Earth)</td>\n",
       "    </tr>\n",
       "    <tr>\n",
       "      <th>3</th>\n",
       "      <td>Moons:</td>\n",
       "      <td>2 (Phobos &amp; Deimos)</td>\n",
       "    </tr>\n",
       "    <tr>\n",
       "      <th>4</th>\n",
       "      <td>Orbit Distance:</td>\n",
       "      <td>227,943,824 km (1.52 AU)</td>\n",
       "    </tr>\n",
       "    <tr>\n",
       "      <th>5</th>\n",
       "      <td>Orbit Period:</td>\n",
       "      <td>687 days (1.9 years)</td>\n",
       "    </tr>\n",
       "    <tr>\n",
       "      <th>6</th>\n",
       "      <td>Surface Temperature:</td>\n",
       "      <td>-153 to 20 °C</td>\n",
       "    </tr>\n",
       "    <tr>\n",
       "      <th>7</th>\n",
       "      <td>First Record:</td>\n",
       "      <td>2nd millennium BC</td>\n",
       "    </tr>\n",
       "    <tr>\n",
       "      <th>8</th>\n",
       "      <td>Recorded By:</td>\n",
       "      <td>Egyptian astronomers</td>\n",
       "    </tr>\n",
       "  </tbody>\n",
       "</table>\n",
       "</div>"
      ],
      "text/plain": [
       "                      0                              1\n",
       "0  Equatorial Diameter:                       6,792 km\n",
       "1       Polar Diameter:                       6,752 km\n",
       "2                 Mass:  6.42 x 10^23 kg (10.7% Earth)\n",
       "3                Moons:            2 (Phobos & Deimos)\n",
       "4       Orbit Distance:       227,943,824 km (1.52 AU)\n",
       "5         Orbit Period:           687 days (1.9 years)\n",
       "6  Surface Temperature:                  -153 to 20 °C\n",
       "7         First Record:              2nd millennium BC\n",
       "8          Recorded By:           Egyptian astronomers"
      ]
     },
     "execution_count": 12,
     "metadata": {},
     "output_type": "execute_result"
    }
   ],
   "source": [
    "''' \n",
    "*** Visit the Mars Facts webpage (http://space-facts.com/mars/) and use Pandas to scrape the table containing \n",
    "facts about the planet including Diameter, Mass, etc. ***\n",
    "'''\n",
    "facts_url = 'http://space-facts.com/mars/'\n",
    "all_facts_df = pd.read_html(facts_url)     # searches for html tables & returns list of dataframes\n",
    "all_facts_df = all_facts_df[0]\n",
    "all_facts_df"
   ]
  },
  {
   "cell_type": "code",
   "execution_count": 13,
   "metadata": {},
   "outputs": [
    {
     "data": {
      "text/plain": [
       "' # clean up df (may be unnecessary)\\nall_facts_df.rename_axis({0:\"category\", 1:\"content\"}, axis=1, inplace=True)\\nall_facts_df.set_index(\"category\", inplace=True)\\nall_facts_df \\n'"
      ]
     },
     "execution_count": 13,
     "metadata": {},
     "output_type": "execute_result"
    }
   ],
   "source": [
    "''' # clean up df (may be unnecessary)\n",
    "all_facts_df.rename_axis({0:\"category\", 1:\"content\"}, axis=1, inplace=True)\n",
    "all_facts_df.set_index(\"category\", inplace=True)\n",
    "all_facts_df \n",
    "'''"
   ]
  },
  {
   "cell_type": "code",
   "execution_count": 14,
   "metadata": {},
   "outputs": [
    {
     "data": {
      "text/plain": [
       "'<table border=\"1\" class=\"dataframe\">\\n  <thead>\\n    <tr style=\"text-align: left;\">\\n      <th></th>\\n      <th>0</th>\\n      <th>1</th>\\n    </tr>\\n  </thead>\\n  <tbody>\\n    <tr>\\n      <th>0</th>\\n      <td>Equatorial Diameter:</td>\\n      <td>6,792 km</td>\\n    </tr>\\n    <tr>\\n      <th>1</th>\\n      <td>Polar Diameter:</td>\\n      <td>6,752 km</td>\\n    </tr>\\n    <tr>\\n      <th>2</th>\\n      <td>Mass:</td>\\n      <td>6.42 x 10^23 kg (10.7% Earth)</td>\\n    </tr>\\n    <tr>\\n      <th>3</th>\\n      <td>Moons:</td>\\n      <td>2 (Phobos &amp; Deimos)</td>\\n    </tr>\\n    <tr>\\n      <th>4</th>\\n      <td>Orbit Distance:</td>\\n      <td>227,943,824 km (1.52 AU)</td>\\n    </tr>\\n    <tr>\\n      <th>5</th>\\n      <td>Orbit Period:</td>\\n      <td>687 days (1.9 years)</td>\\n    </tr>\\n    <tr>\\n      <th>6</th>\\n      <td>Surface Temperature:</td>\\n      <td>-153 to 20 °C</td>\\n    </tr>\\n    <tr>\\n      <th>7</th>\\n      <td>First Record:</td>\\n      <td>2nd millennium BC</td>\\n    </tr>\\n    <tr>\\n      <th>8</th>\\n      <td>Recorded By:</td>\\n      <td>Egyptian astronomers</td>\\n    </tr>\\n  </tbody>\\n</table>'"
      ]
     },
     "execution_count": 14,
     "metadata": {},
     "output_type": "execute_result"
    }
   ],
   "source": [
    "# Use Pandas to convert the data to a HTML table string.\n",
    "facts_html = all_facts_df.to_html(justify='left')\n",
    "\n",
    "facts_html"
   ]
  },
  {
   "cell_type": "markdown",
   "metadata": {},
   "source": [
    "### Mars Hemispheres"
   ]
  },
  {
   "cell_type": "code",
   "execution_count": 114,
   "metadata": {
    "collapsed": true
   },
   "outputs": [],
   "source": [
    "''' \n",
    "*** Visit the USGS Astrogeology site \n",
    "(https://astrogeology.usgs.gov/search/results?q=hemisphere+enhanced&k1=target&v1=Mars) \n",
    "to obtain high resolution images for each of Mar's hemispheres.\n",
    "'''\n",
    "executable_path = {'executable_path': 'chromedriver.exe'}     # included these 2 lines\n",
    "browser = Browser('chrome', **executable_path, headless=False)     # to prevent browser.visit() failing \n",
    "url = 'https://astrogeology.usgs.gov/search/results?q=hemisphere+enhanced&k1=target&v1=Mars'\n",
    "browser.visit(url)\n"
   ]
  },
  {
   "cell_type": "code",
   "execution_count": 115,
   "metadata": {},
   "outputs": [
    {
     "data": {
      "text/plain": [
       "array(['https://astrogeology.usgs.gov/search/map/Mars/Viking/cerberus_enhanced',\n",
       "       'https://astrogeology.usgs.gov/search/map/Mars/Viking/schiaparelli_enhanced',\n",
       "       'https://astrogeology.usgs.gov/search/map/Mars/Viking/syrtis_major_enhanced',\n",
       "       'https://astrogeology.usgs.gov/search/map/Mars/Viking/valles_marineris_enhanced'],\n",
       "      dtype='<U78')"
      ]
     },
     "execution_count": 115,
     "metadata": {},
     "output_type": "execute_result"
    }
   ],
   "source": [
    "# click each of the links to the hemispheres to find the image url to the full resolution image.\n",
    "#    get list of <a href links> \n",
    "html = browser.html\n",
    "soup = BeautifulSoup(html, 'html.parser')\n",
    "\n",
    "hemi_soup = soup.find_all(class_='itemLink product-item')\n",
    "\n",
    "hemi_href_ls = []\n",
    "\n",
    "for item in hemi_soup:\n",
    "    url_index = 'https://astrogeology.usgs.gov'\n",
    "    href = item['href']\n",
    "    link = url_index + href\n",
    "    hemi_href_ls.append(link)\n",
    "\n",
    "# Get unique hrefs\n",
    "'''     I could just go to these urls separately using browser.visit(url). But I interpret the instructions \n",
    "        as saying that I need to use splinter to click on the link in the browser.     '''\n",
    "hemi_href_ls = np.unique(hemi_href_ls)\n",
    "hemi_href_ls"
   ]
  },
  {
   "cell_type": "code",
   "execution_count": 116,
   "metadata": {},
   "outputs": [
    {
     "data": {
      "text/plain": [
       "\" It seems splinter can only click link based on the exact wording of the text\\nbrowser.click_link_by_partial_text('Cerberus Hemisphere')    #e.g. function will fail to find lower case 'cerberus'\\n\""
      ]
     },
     "execution_count": 116,
     "metadata": {},
     "output_type": "execute_result"
    }
   ],
   "source": [
    "''' It seems splinter can only click link based on the exact wording of the text\n",
    "browser.click_link_by_partial_text('Cerberus Hemisphere')    #e.g. function will fail to find lower case 'cerberus'\n",
    "'''"
   ]
  },
  {
   "cell_type": "code",
   "execution_count": 117,
   "metadata": {},
   "outputs": [
    {
     "data": {
      "text/plain": [
       "'Syrtis Major Hemisphere'"
      ]
     },
     "execution_count": 117,
     "metadata": {},
     "output_type": "execute_result"
    }
   ],
   "source": [
    "# Beautiful soup to search browser html for headers (these contain the hemisphere names)\n",
    "html = browser.html\n",
    "soup = BeautifulSoup(html, 'html.parser')\n",
    "\n",
    "headers_soup = soup.find_all('h3')\n",
    "test = headers_soup[2].text.replace(\" Enhanced\", \"\")\n",
    "test"
   ]
  },
  {
   "cell_type": "code",
   "execution_count": 128,
   "metadata": {},
   "outputs": [
    {
     "data": {
      "text/plain": [
       "[{'img_url': 'https://astropedia.astrogeology.usgs.gov/download/Mars/Viking/cerberus_enhanced.tif/full.jpg',\n",
       "  'title': 'Cerberus Hemisphere'},\n",
       " {'img_url': 'https://astropedia.astrogeology.usgs.gov/download/Mars/Viking/schiaparelli_enhanced.tif/full.jpg',\n",
       "  'title': 'Schiaparelli Hemisphere'},\n",
       " {'img_url': 'https://astropedia.astrogeology.usgs.gov/download/Mars/Viking/syrtis_major_enhanced.tif/full.jpg',\n",
       "  'title': 'Syrtis Major Hemisphere'},\n",
       " {'img_url': 'https://astropedia.astrogeology.usgs.gov/download/Mars/Viking/valles_marineris_enhanced.tif/full.jpg',\n",
       "  'title': 'Valles Marineris Hemisphere'}]"
      ]
     },
     "execution_count": 128,
     "metadata": {},
     "output_type": "execute_result"
    }
   ],
   "source": [
    "# For each header in the beautiful soup, click link associated with it and get img_url \n",
    "hemisphere_image_urls = []\n",
    "url = 'https://astrogeology.usgs.gov/search/results?q=hemisphere+enhanced&k1=target&v1=Mars'\n",
    "\n",
    "for header in headers_soup:\n",
    "    #start at origin url for the Mars hemisphere section \n",
    "    window = browser.windows[0]     # current window, the first window\n",
    "    browser.visit(url)\n",
    "    time.sleep(2)     # wait 2 secs for browser to load \n",
    "    #getting title\n",
    "    title = header.text\n",
    "    title = title.replace(\" Enhanced\", \"\")     #get rid of \" \" + \"Enhanced\" for when dict is appended\n",
    "    browser.click_link_by_partial_text(title)\n",
    "    time.sleep(2)     # again, wait 2 secs for browser to load    \n",
    "    browser.click_link_by_text('Sample')\n",
    "    browser.windows.current = browser.windows[1]     # switch current window to the window that just opened\n",
    "    img_url = browser.url\n",
    "    browser.windows.current = window     # switch the current window back \n",
    "    hemisphere_image_urls.append({'title':title, 'img_url':img_url})\n",
    "    window.close_others()    # close all the other windows to keep browser nice and tidy!\n",
    "\n",
    "hemisphere_image_urls"
   ]
  },
  {
   "cell_type": "code",
   "execution_count": 127,
   "metadata": {},
   "outputs": [],
   "source": []
  }
 ],
 "metadata": {
  "kernelspec": {
   "display_name": "Python (PythonData)",
   "language": "python",
   "name": "pythondata"
  },
  "language_info": {
   "codemirror_mode": {
    "name": "ipython",
    "version": 3
   },
   "file_extension": ".py",
   "mimetype": "text/x-python",
   "name": "python",
   "nbconvert_exporter": "python",
   "pygments_lexer": "ipython3",
   "version": "3.6.3"
  }
 },
 "nbformat": 4,
 "nbformat_minor": 2
}
